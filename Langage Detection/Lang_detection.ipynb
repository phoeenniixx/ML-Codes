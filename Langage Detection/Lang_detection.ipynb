{
  "nbformat": 4,
  "nbformat_minor": 0,
  "metadata": {
    "colab": {
      "provenance": [],
      "gpuType": "T4"
    },
    "kernelspec": {
      "name": "python3",
      "display_name": "Python 3"
    },
    "language_info": {
      "name": "python"
    },
    "accelerator": "GPU"
  },
  "cells": [
    {
      "cell_type": "code",
      "execution_count": null,
      "metadata": {
        "colab": {
          "base_uri": "https://localhost:8080/"
        },
        "id": "3JF5zxPh28oH",
        "outputId": "2438a478-ea22-40f2-89f7-57b91a823be7"
      },
      "outputs": [
        {
          "output_type": "stream",
          "name": "stdout",
          "text": [
            "Drive already mounted at /content/MyDrive; to attempt to forcibly remount, call drive.mount(\"/content/MyDrive\", force_remount=True).\n"
          ]
        }
      ],
      "source": [
        "from google.colab import drive\n",
        "drive.mount(\"/content/MyDrive\")\n"
      ]
    },
    {
      "cell_type": "code",
      "source": [
        "import pandas as pd\n",
        "import numpy as np\n",
        "import tensorflow as tf\n",
        "import matplotlib.pyplot as plt\n",
        "from sklearn.model_selection import train_test_split\n",
        "import re\n",
        "from sklearn.preprocessing import normalize"
      ],
      "metadata": {
        "id": "QzeYSlmL3pT2"
      },
      "execution_count": null,
      "outputs": []
    },
    {
      "cell_type": "code",
      "source": [
        "from sklearn.metrics import accuracy_score, confusion_matrix, classification_report\n",
        "from sklearn.naive_bayes import MultinomialNB\n",
        "from sklearn.feature_extraction.text import TfidfVectorizer"
      ],
      "metadata": {
        "id": "fTtaa4rWNAFM"
      },
      "execution_count": null,
      "outputs": []
    },
    {
      "cell_type": "code",
      "source": [
        "from sklearn.feature_extraction.text import CountVectorizer\n",
        "from sklearn.preprocessing import LabelEncoder"
      ],
      "metadata": {
        "id": "bYSQjOVI5me-"
      },
      "execution_count": null,
      "outputs": []
    },
    {
      "cell_type": "code",
      "source": [
        "df=pd.read_csv(\"/content/MyDrive/MyDrive/dataset.csv\")\n",
        "df.head()"
      ],
      "metadata": {
        "colab": {
          "base_uri": "https://localhost:8080/",
          "height": 206
        },
        "id": "llmCqC1y38jS",
        "outputId": "ee2f5745-c6a4-4c29-9ace-04d971a1ba44"
      },
      "execution_count": null,
      "outputs": [
        {
          "output_type": "execute_result",
          "data": {
            "text/plain": [
              "                                                Text  language\n",
              "0  klement gottwaldi surnukeha palsameeriti ning ...  Estonian\n",
              "1  sebes joseph pereira thomas  på eng the jesuit...   Swedish\n",
              "2  ถนนเจริญกรุง อักษรโรมัน thanon charoen krung เ...      Thai\n",
              "3  விசாகப்பட்டினம் தமிழ்ச்சங்கத்தை இந்துப் பத்திர...     Tamil\n",
              "4  de spons behoort tot het geslacht haliclona en...     Dutch"
            ],
            "text/html": [
              "\n",
              "  <div id=\"df-aa4e5dcb-8390-4d93-9c75-68bb43c8e1c7\" class=\"colab-df-container\">\n",
              "    <div>\n",
              "<style scoped>\n",
              "    .dataframe tbody tr th:only-of-type {\n",
              "        vertical-align: middle;\n",
              "    }\n",
              "\n",
              "    .dataframe tbody tr th {\n",
              "        vertical-align: top;\n",
              "    }\n",
              "\n",
              "    .dataframe thead th {\n",
              "        text-align: right;\n",
              "    }\n",
              "</style>\n",
              "<table border=\"1\" class=\"dataframe\">\n",
              "  <thead>\n",
              "    <tr style=\"text-align: right;\">\n",
              "      <th></th>\n",
              "      <th>Text</th>\n",
              "      <th>language</th>\n",
              "    </tr>\n",
              "  </thead>\n",
              "  <tbody>\n",
              "    <tr>\n",
              "      <th>0</th>\n",
              "      <td>klement gottwaldi surnukeha palsameeriti ning ...</td>\n",
              "      <td>Estonian</td>\n",
              "    </tr>\n",
              "    <tr>\n",
              "      <th>1</th>\n",
              "      <td>sebes joseph pereira thomas  på eng the jesuit...</td>\n",
              "      <td>Swedish</td>\n",
              "    </tr>\n",
              "    <tr>\n",
              "      <th>2</th>\n",
              "      <td>ถนนเจริญกรุง อักษรโรมัน thanon charoen krung เ...</td>\n",
              "      <td>Thai</td>\n",
              "    </tr>\n",
              "    <tr>\n",
              "      <th>3</th>\n",
              "      <td>விசாகப்பட்டினம் தமிழ்ச்சங்கத்தை இந்துப் பத்திர...</td>\n",
              "      <td>Tamil</td>\n",
              "    </tr>\n",
              "    <tr>\n",
              "      <th>4</th>\n",
              "      <td>de spons behoort tot het geslacht haliclona en...</td>\n",
              "      <td>Dutch</td>\n",
              "    </tr>\n",
              "  </tbody>\n",
              "</table>\n",
              "</div>\n",
              "    <div class=\"colab-df-buttons\">\n",
              "\n",
              "  <div class=\"colab-df-container\">\n",
              "    <button class=\"colab-df-convert\" onclick=\"convertToInteractive('df-aa4e5dcb-8390-4d93-9c75-68bb43c8e1c7')\"\n",
              "            title=\"Convert this dataframe to an interactive table.\"\n",
              "            style=\"display:none;\">\n",
              "\n",
              "  <svg xmlns=\"http://www.w3.org/2000/svg\" height=\"24px\" viewBox=\"0 -960 960 960\">\n",
              "    <path d=\"M120-120v-720h720v720H120Zm60-500h600v-160H180v160Zm220 220h160v-160H400v160Zm0 220h160v-160H400v160ZM180-400h160v-160H180v160Zm440 0h160v-160H620v160ZM180-180h160v-160H180v160Zm440 0h160v-160H620v160Z\"/>\n",
              "  </svg>\n",
              "    </button>\n",
              "\n",
              "  <style>\n",
              "    .colab-df-container {\n",
              "      display:flex;\n",
              "      gap: 12px;\n",
              "    }\n",
              "\n",
              "    .colab-df-convert {\n",
              "      background-color: #E8F0FE;\n",
              "      border: none;\n",
              "      border-radius: 50%;\n",
              "      cursor: pointer;\n",
              "      display: none;\n",
              "      fill: #1967D2;\n",
              "      height: 32px;\n",
              "      padding: 0 0 0 0;\n",
              "      width: 32px;\n",
              "    }\n",
              "\n",
              "    .colab-df-convert:hover {\n",
              "      background-color: #E2EBFA;\n",
              "      box-shadow: 0px 1px 2px rgba(60, 64, 67, 0.3), 0px 1px 3px 1px rgba(60, 64, 67, 0.15);\n",
              "      fill: #174EA6;\n",
              "    }\n",
              "\n",
              "    .colab-df-buttons div {\n",
              "      margin-bottom: 4px;\n",
              "    }\n",
              "\n",
              "    [theme=dark] .colab-df-convert {\n",
              "      background-color: #3B4455;\n",
              "      fill: #D2E3FC;\n",
              "    }\n",
              "\n",
              "    [theme=dark] .colab-df-convert:hover {\n",
              "      background-color: #434B5C;\n",
              "      box-shadow: 0px 1px 3px 1px rgba(0, 0, 0, 0.15);\n",
              "      filter: drop-shadow(0px 1px 2px rgba(0, 0, 0, 0.3));\n",
              "      fill: #FFFFFF;\n",
              "    }\n",
              "  </style>\n",
              "\n",
              "    <script>\n",
              "      const buttonEl =\n",
              "        document.querySelector('#df-aa4e5dcb-8390-4d93-9c75-68bb43c8e1c7 button.colab-df-convert');\n",
              "      buttonEl.style.display =\n",
              "        google.colab.kernel.accessAllowed ? 'block' : 'none';\n",
              "\n",
              "      async function convertToInteractive(key) {\n",
              "        const element = document.querySelector('#df-aa4e5dcb-8390-4d93-9c75-68bb43c8e1c7');\n",
              "        const dataTable =\n",
              "          await google.colab.kernel.invokeFunction('convertToInteractive',\n",
              "                                                    [key], {});\n",
              "        if (!dataTable) return;\n",
              "\n",
              "        const docLinkHtml = 'Like what you see? Visit the ' +\n",
              "          '<a target=\"_blank\" href=https://colab.research.google.com/notebooks/data_table.ipynb>data table notebook</a>'\n",
              "          + ' to learn more about interactive tables.';\n",
              "        element.innerHTML = '';\n",
              "        dataTable['output_type'] = 'display_data';\n",
              "        await google.colab.output.renderOutput(dataTable, element);\n",
              "        const docLink = document.createElement('div');\n",
              "        docLink.innerHTML = docLinkHtml;\n",
              "        element.appendChild(docLink);\n",
              "      }\n",
              "    </script>\n",
              "  </div>\n",
              "\n",
              "\n",
              "<div id=\"df-47715972-d3b9-4399-96ca-a4e82a90fa8e\">\n",
              "  <button class=\"colab-df-quickchart\" onclick=\"quickchart('df-47715972-d3b9-4399-96ca-a4e82a90fa8e')\"\n",
              "            title=\"Suggest charts\"\n",
              "            style=\"display:none;\">\n",
              "\n",
              "<svg xmlns=\"http://www.w3.org/2000/svg\" height=\"24px\"viewBox=\"0 0 24 24\"\n",
              "     width=\"24px\">\n",
              "    <g>\n",
              "        <path d=\"M19 3H5c-1.1 0-2 .9-2 2v14c0 1.1.9 2 2 2h14c1.1 0 2-.9 2-2V5c0-1.1-.9-2-2-2zM9 17H7v-7h2v7zm4 0h-2V7h2v10zm4 0h-2v-4h2v4z\"/>\n",
              "    </g>\n",
              "</svg>\n",
              "  </button>\n",
              "\n",
              "<style>\n",
              "  .colab-df-quickchart {\n",
              "      --bg-color: #E8F0FE;\n",
              "      --fill-color: #1967D2;\n",
              "      --hover-bg-color: #E2EBFA;\n",
              "      --hover-fill-color: #174EA6;\n",
              "      --disabled-fill-color: #AAA;\n",
              "      --disabled-bg-color: #DDD;\n",
              "  }\n",
              "\n",
              "  [theme=dark] .colab-df-quickchart {\n",
              "      --bg-color: #3B4455;\n",
              "      --fill-color: #D2E3FC;\n",
              "      --hover-bg-color: #434B5C;\n",
              "      --hover-fill-color: #FFFFFF;\n",
              "      --disabled-bg-color: #3B4455;\n",
              "      --disabled-fill-color: #666;\n",
              "  }\n",
              "\n",
              "  .colab-df-quickchart {\n",
              "    background-color: var(--bg-color);\n",
              "    border: none;\n",
              "    border-radius: 50%;\n",
              "    cursor: pointer;\n",
              "    display: none;\n",
              "    fill: var(--fill-color);\n",
              "    height: 32px;\n",
              "    padding: 0;\n",
              "    width: 32px;\n",
              "  }\n",
              "\n",
              "  .colab-df-quickchart:hover {\n",
              "    background-color: var(--hover-bg-color);\n",
              "    box-shadow: 0 1px 2px rgba(60, 64, 67, 0.3), 0 1px 3px 1px rgba(60, 64, 67, 0.15);\n",
              "    fill: var(--button-hover-fill-color);\n",
              "  }\n",
              "\n",
              "  .colab-df-quickchart-complete:disabled,\n",
              "  .colab-df-quickchart-complete:disabled:hover {\n",
              "    background-color: var(--disabled-bg-color);\n",
              "    fill: var(--disabled-fill-color);\n",
              "    box-shadow: none;\n",
              "  }\n",
              "\n",
              "  .colab-df-spinner {\n",
              "    border: 2px solid var(--fill-color);\n",
              "    border-color: transparent;\n",
              "    border-bottom-color: var(--fill-color);\n",
              "    animation:\n",
              "      spin 1s steps(1) infinite;\n",
              "  }\n",
              "\n",
              "  @keyframes spin {\n",
              "    0% {\n",
              "      border-color: transparent;\n",
              "      border-bottom-color: var(--fill-color);\n",
              "      border-left-color: var(--fill-color);\n",
              "    }\n",
              "    20% {\n",
              "      border-color: transparent;\n",
              "      border-left-color: var(--fill-color);\n",
              "      border-top-color: var(--fill-color);\n",
              "    }\n",
              "    30% {\n",
              "      border-color: transparent;\n",
              "      border-left-color: var(--fill-color);\n",
              "      border-top-color: var(--fill-color);\n",
              "      border-right-color: var(--fill-color);\n",
              "    }\n",
              "    40% {\n",
              "      border-color: transparent;\n",
              "      border-right-color: var(--fill-color);\n",
              "      border-top-color: var(--fill-color);\n",
              "    }\n",
              "    60% {\n",
              "      border-color: transparent;\n",
              "      border-right-color: var(--fill-color);\n",
              "    }\n",
              "    80% {\n",
              "      border-color: transparent;\n",
              "      border-right-color: var(--fill-color);\n",
              "      border-bottom-color: var(--fill-color);\n",
              "    }\n",
              "    90% {\n",
              "      border-color: transparent;\n",
              "      border-bottom-color: var(--fill-color);\n",
              "    }\n",
              "  }\n",
              "</style>\n",
              "\n",
              "  <script>\n",
              "    async function quickchart(key) {\n",
              "      const quickchartButtonEl =\n",
              "        document.querySelector('#' + key + ' button');\n",
              "      quickchartButtonEl.disabled = true;  // To prevent multiple clicks.\n",
              "      quickchartButtonEl.classList.add('colab-df-spinner');\n",
              "      try {\n",
              "        const charts = await google.colab.kernel.invokeFunction(\n",
              "            'suggestCharts', [key], {});\n",
              "      } catch (error) {\n",
              "        console.error('Error during call to suggestCharts:', error);\n",
              "      }\n",
              "      quickchartButtonEl.classList.remove('colab-df-spinner');\n",
              "      quickchartButtonEl.classList.add('colab-df-quickchart-complete');\n",
              "    }\n",
              "    (() => {\n",
              "      let quickchartButtonEl =\n",
              "        document.querySelector('#df-47715972-d3b9-4399-96ca-a4e82a90fa8e button');\n",
              "      quickchartButtonEl.style.display =\n",
              "        google.colab.kernel.accessAllowed ? 'block' : 'none';\n",
              "    })();\n",
              "  </script>\n",
              "</div>\n",
              "\n",
              "    </div>\n",
              "  </div>\n"
            ]
          },
          "metadata": {},
          "execution_count": 43
        }
      ]
    },
    {
      "cell_type": "code",
      "source": [
        "langs=set(df['language'].values)\n",
        "print(langs)\n",
        "print(\"-------------------------------------------------------------\")\n",
        "print('Swedish & English:', df['Text'][1])\n",
        "print('Thai & English:', df['Text'][2])\n",
        "print('Chinese & English:', df['Text'][21998])"
      ],
      "metadata": {
        "colab": {
          "base_uri": "https://localhost:8080/"
        },
        "id": "gV6Q0Ai64IKk",
        "outputId": "8da9e7d3-9bf9-47f4-f58b-451c8016672f"
      },
      "execution_count": null,
      "outputs": [
        {
          "output_type": "stream",
          "name": "stdout",
          "text": [
            "{'Indonesian', 'Russian', 'Romanian', 'Latin', 'Japanese', 'Spanish', 'Swedish', 'Turkish', 'Urdu', 'Thai', 'Pushto', 'Persian', 'Hindi', 'Tamil', 'Korean', 'Arabic', 'Dutch', 'Estonian', 'Portugese', 'Chinese', 'English', 'French'}\n",
            "-------------------------------------------------------------\n",
            "Swedish & English: sebes joseph pereira thomas  på eng the jesuits and the sino-russian treaty of nerchinsk  the diary of thomas pereira bibliotheca instituti historici s i --   rome libris \n",
            "Thai & English: ถนนเจริญกรุง อักษรโรมัน thanon charoen krung เริ่มตั้งแต่ถนนสนามไชยถึงแม่น้ำเจ้าพระยาที่ถนนตก กรุงเทพมหานคร เป็นถนนรุ่นแรกที่ใช้เทคนิคการสร้างแบบตะวันตก ปัจจุบันผ่านพื้นที่เขตพระนคร เขตป้อมปราบศัตรูพ่าย เขตสัมพันธวงศ์ เขตบางรัก เขตสาทร และเขตบางคอแหลม\n",
            "Chinese & English: 年月，當時還只有歲的她在美國出道，以mai-k名義推出首張英文《baby i like》，由美國的獨立廠牌bip·record發行，以外國輸入盤的形式在日本發售，旋即被抢购一空。其後於月日發行以倉木麻衣名義發行的首張日文單曲《love day after tomorrow》，正式於日本出道。這張單曲初動銷量只得約萬張，可是其後每週銷量一直上升，並於年月正式突破百萬銷量，合计万张。成為年最耀眼的新人歌手。\n"
          ]
        }
      ]
    },
    {
      "cell_type": "code",
      "source": [
        "X=df['Text']\n",
        "y=df['language']\n",
        "\n",
        "x_train, x_test, y_train, y_test = train_test_split(X, y, test_size=0.2, random_state=42)\n",
        "\n",
        "print(len(x_train))\n",
        "print(len(x_test))\n",
        "print(len(y_train))\n",
        "print(len(y_test))"
      ],
      "metadata": {
        "colab": {
          "base_uri": "https://localhost:8080/"
        },
        "id": "zmh0T2dT5KL5",
        "outputId": "db26ba2d-6aa5-4669-c422-ade61da3324b"
      },
      "execution_count": null,
      "outputs": [
        {
          "output_type": "stream",
          "name": "stdout",
          "text": [
            "17600\n",
            "4400\n",
            "17600\n",
            "4400\n"
          ]
        }
      ]
    },
    {
      "cell_type": "code",
      "source": [
        "unigramVectorizer = CountVectorizer(analyzer='char', ngram_range=(1,1))\n",
        "x_unigram_train_raw = unigramVectorizer.fit_transform(x_train)\n",
        "x_unigram_test_raw = unigramVectorizer.transform(x_test)\n",
        "\n",
        "\n",
        "unigramFeatures = unigramVectorizer.get_feature_names_out()\n",
        "\n",
        "print('Number of unigrams in training set:', len(unigramFeatures))"
      ],
      "metadata": {
        "colab": {
          "base_uri": "https://localhost:8080/"
        },
        "id": "L9PEJOCv5Zfu",
        "outputId": "4dde07c1-fe7c-479a-e973-018704c51dca"
      },
      "execution_count": null,
      "outputs": [
        {
          "output_type": "stream",
          "name": "stdout",
          "text": [
            "Number of unigrams in training set: 6816\n"
          ]
        }
      ]
    },
    {
      "cell_type": "code",
      "source": [
        "unigramFeatures"
      ],
      "metadata": {
        "colab": {
          "base_uri": "https://localhost:8080/"
        },
        "id": "jRfWnfvq5bL2",
        "outputId": "c5afc739-23f2-4ebf-f71d-c0e890e81ed2"
      },
      "execution_count": null,
      "outputs": [
        {
          "output_type": "execute_result",
          "data": {
            "text/plain": [
              "array([' ', '\"', '$', ..., '𢍰', '𢙯', '𧣾'], dtype=object)"
            ]
          },
          "metadata": {},
          "execution_count": 47
        }
      ]
    },
    {
      "cell_type": "code",
      "source": [
        "def train_lang_dict(X_raw_counts, y_train):\n",
        "    lang_dict = {}\n",
        "    for i in range(len(y_train)):\n",
        "        lang = y_train[i]\n",
        "        v = np.array(X_raw_counts[i])\n",
        "        if not lang in lang_dict:\n",
        "            lang_dict[lang] = v\n",
        "        else:\n",
        "            lang_dict[lang] += v\n",
        "\n",
        "    for lang in lang_dict:\n",
        "        v = lang_dict[lang]\n",
        "        lang_dict[lang] = v / np.sum(v)\n",
        "\n",
        "    return lang_dict\n",
        "\n",
        "language_dict_unigram = train_lang_dict(x_unigram_train_raw.toarray(), y_train.values)\n",
        "\n",
        "def getRelevantCharsPerLanguage(features, language_dict, significance=1e-5):\n",
        "    relevantCharsPerLanguage = {}\n",
        "    for lang in langs:\n",
        "        chars = []\n",
        "        relevantCharsPerLanguage[lang] = chars\n",
        "        v = language_dict[lang]\n",
        "        for i in range(len(v)):\n",
        "            if v[i] > significance:\n",
        "                chars.append(features[i])\n",
        "    return relevantCharsPerLanguage\n",
        "\n",
        "relevantCharsPerLanguage = getRelevantCharsPerLanguage(unigramFeatures, language_dict_unigram)\n",
        "\n",
        "for lang in langs:\n",
        "    print(lang, len(relevantCharsPerLanguage[lang]))"
      ],
      "metadata": {
        "colab": {
          "base_uri": "https://localhost:8080/"
        },
        "id": "V4p0Xm-J5cdc",
        "outputId": "0d41ae5d-1d0b-406a-f4ec-0f5f20b7b5ed"
      },
      "execution_count": null,
      "outputs": [
        {
          "output_type": "stream",
          "name": "stdout",
          "text": [
            "Indonesian 75\n",
            "Russian 85\n",
            "Romanian 109\n",
            "Latin 132\n",
            "Japanese 2054\n",
            "Spanish 66\n",
            "Swedish 77\n",
            "Turkish 121\n",
            "Urdu 142\n",
            "Thai 148\n",
            "Pushto 188\n",
            "Persian 98\n",
            "Hindi 117\n",
            "Tamil 113\n",
            "Korean 1407\n",
            "Arabic 97\n",
            "Dutch 58\n",
            "Estonian 96\n",
            "Portugese 64\n",
            "Chinese 3249\n",
            "English 60\n",
            "French 70\n"
          ]
        }
      ]
    },
    {
      "cell_type": "markdown",
      "source": [
        "As we can see in the above overview, following languages are using a lot of unique symbols:\n",
        "\n",
        "Chinese: 3,249\n",
        "Japanese: 2,054\n",
        "Korean: 1,407\n",
        "I.e. we can easily identify these languages by using Uni-Grams.\n",
        "\n",
        "But:\n",
        "\n",
        "All other languages are using much fewer symbols.\n",
        "And most of the other languages share common symbols.\n",
        "\n",
        "so here we will use Bi-grams"
      ],
      "metadata": {
        "id": "C_CRKd0tZ_ru"
      }
    },
    {
      "cell_type": "code",
      "source": [
        "bigramVectorizer = CountVectorizer(analyzer='char', ngram_range=(2,2))\n",
        "x_bigram_raw = bigramVectorizer.fit_transform(x_train)\n",
        "bigramFeatures = bigramVectorizer.get_feature_names_out()\n",
        "print('Number of bigrams', len(bigramFeatures))"
      ],
      "metadata": {
        "id": "y4sfsgsY5cs8",
        "colab": {
          "base_uri": "https://localhost:8080/"
        },
        "outputId": "4e261323-184d-4ee8-d6e9-1ecbadd5c81f"
      },
      "execution_count": null,
      "outputs": [
        {
          "output_type": "stream",
          "name": "stdout",
          "text": [
            "Number of bigrams 147219\n"
          ]
        }
      ]
    },
    {
      "cell_type": "markdown",
      "source": [
        "### Mixture of Uni-Gram & Bi-Grams\n",
        "When we restrict ourselves to a limited number of features, it is important, that we will capture details for each language. Since Chinese consists of >3,000 of different symbols, the probability of the most frequently used Chinese Uni-Grams might be below the top 1000 used Bi-Grams of the other languages.\n",
        "\n",
        "#### Mixture Uni- & Bi-Grams (using the top 1%)\n",
        "So, take Uni- & Bi-Grams occurring at least in 1% of all cases."
      ],
      "metadata": {
        "id": "FIwpVmIiazRb"
      }
    },
    {
      "cell_type": "code",
      "source": [
        "top1PrecentMixtureVectorizer = CountVectorizer(analyzer='char', ngram_range=(1,2), min_df=1e-2)\n",
        "x_top1Percent_train_raw = top1PrecentMixtureVectorizer.fit_transform(x_train)\n",
        "x_top1Percent_test_raw = top1PrecentMixtureVectorizer.transform(x_test)\n",
        "\n",
        "language_dict_top1Percent = train_lang_dict(x_top1Percent_train_raw.toarray(), y_train.values)\n",
        "\n",
        "top1PercentFeatures = top1PrecentMixtureVectorizer.get_feature_names_out()\n",
        "print('Length of features', len(top1PercentFeatures))\n",
        "print('')\n",
        "\n",
        "#Unique features per language\n",
        "relevantChars_Top1Percent = getRelevantCharsPerLanguage(top1PercentFeatures, language_dict_top1Percent, 1e-5)\n",
        "for lang in relevantChars_Top1Percent:\n",
        "    print(\"{}: {}\".format(lang, len(relevantChars_Top1Percent[lang])))"
      ],
      "metadata": {
        "id": "E3_ZjD3L5c4c",
        "colab": {
          "base_uri": "https://localhost:8080/"
        },
        "outputId": "35113725-a57e-439d-a9d9-3fded21639fe"
      },
      "execution_count": null,
      "outputs": [
        {
          "output_type": "stream",
          "name": "stdout",
          "text": [
            "Length of features 3079\n",
            "\n",
            "Indonesian: 496\n",
            "Russian: 536\n",
            "Romanian: 532\n",
            "Latin: 557\n",
            "Japanese: 897\n",
            "Spanish: 528\n",
            "Swedish: 546\n",
            "Turkish: 597\n",
            "Urdu: 838\n",
            "Thai: 719\n",
            "Pushto: 980\n",
            "Persian: 664\n",
            "Hindi: 572\n",
            "Tamil: 517\n",
            "Korean: 726\n",
            "Arabic: 680\n",
            "Dutch: 527\n",
            "Estonian: 624\n",
            "Portugese: 542\n",
            "Chinese: 716\n",
            "English: 488\n",
            "French: 518\n"
          ]
        }
      ]
    },
    {
      "cell_type": "code",
      "source": [
        "def normalizeData(train, test):\n",
        "    train_result = normalize(train, norm='l2', axis=1, copy=True, return_norm=False)\n",
        "    test_result = normalize(test, norm='l2', axis=1, copy=True, return_norm=False)\n",
        "    return train_result, test_result\n",
        "x_top1Percent_train, x_top1Percent_test = normalizeData(x_top1Percent_train_raw, x_top1Percent_test_raw)"
      ],
      "metadata": {
        "id": "ucsZ4VPHQYS3"
      },
      "execution_count": null,
      "outputs": []
    },
    {
      "cell_type": "code",
      "source": [
        "x_top1Percent_train.shape"
      ],
      "metadata": {
        "id": "BtllTa2G5dON",
        "colab": {
          "base_uri": "https://localhost:8080/"
        },
        "outputId": "a8abcf07-735a-45d5-c923-49fbdad36501"
      },
      "execution_count": null,
      "outputs": [
        {
          "output_type": "execute_result",
          "data": {
            "text/plain": [
              "(17600, 3079)"
            ]
          },
          "metadata": {},
          "execution_count": 52
        }
      ]
    },
    {
      "cell_type": "code",
      "source": [
        "x_train.shape"
      ],
      "metadata": {
        "id": "Yoq7V3V95dW0",
        "colab": {
          "base_uri": "https://localhost:8080/"
        },
        "outputId": "4680fbd8-74d3-4fa5-e9f5-1a48dd571b09"
      },
      "execution_count": null,
      "outputs": [
        {
          "output_type": "execute_result",
          "data": {
            "text/plain": [
              "(17600,)"
            ]
          },
          "metadata": {},
          "execution_count": 53
        }
      ]
    },
    {
      "cell_type": "code",
      "source": [
        "clf = MultinomialNB()\n",
        "clf.fit(x_top1Percent_train, y_tran)\n",
        "y_predict = clf.predict(x_top1Percent_test)"
      ],
      "metadata": {
        "id": "z4n1fOcxM8zl"
      },
      "execution_count": null,
      "outputs": []
    },
    {
      "cell_type": "code",
      "source": [
        "ac=accuracy_score(y_test,y_predict)\n",
        "cm=confusion_matrix(y_test,y_predict)\n",
        "cr=classification_report(y_test,y_predict)\n",
        "print(ac)\n",
        "print(cm)\n",
        "print(cr)"
      ],
      "metadata": {
        "colab": {
          "base_uri": "https://localhost:8080/"
        },
        "id": "Gn9U6EQ8Pieo",
        "outputId": "0d6cb20c-03b2-4aa0-d0c8-e472760127c4"
      },
      "execution_count": null,
      "outputs": [
        {
          "output_type": "stream",
          "name": "stdout",
          "text": [
            "0.9736363636363636\n",
            "[[202   0   0   0   0   0   0   0   0   0   0   0   0   0   0   0   0   0\n",
            "    0   0   0   0]\n",
            " [  0 195   0   5   0   0   0   1   0   0   0   0   0   0   0   0   0   0\n",
            "    0   0   0   0]\n",
            " [  0   0 221   2   0   5   0   0   0   0   1   0   0   0   0   0   1   0\n",
            "    0   0   0   0]\n",
            " [  0   0   0 193   0   0   0   0   0   0   1   0   0   0   0   0   0   0\n",
            "    0   0   0   0]\n",
            " [  0   0   0   6 189   1   0   0   0   0   2   0   0   0   0   2   0   0\n",
            "    0   0   0   0]\n",
            " [  0   0   0   1   0 186   0   0   0   0   1   0   0   0   0   0   0   0\n",
            "    0   0   0   0]\n",
            " [  0   0   0   3   0   0 205   0   0   0   0   0   0   0   0   0   0   0\n",
            "    0   0   0   0]\n",
            " [  0   0   1   7   0   0   0 205   0   0   0   0   0   0   0   0   0   0\n",
            "    0   0   0   0]\n",
            " [  0   0   1   0   0   1   0   0 190   0   0   0   1   0   0   1   0   0\n",
            "    0   0   0   0]\n",
            " [  0   1   0   0   0   0   0   0   0 189   0   0   0   0   0   0   0   0\n",
            "    0   0   0   0]\n",
            " [  0   0   2  13   1   2   0   0   0   0 191   0   0   0   0   0   1   0\n",
            "    0   0   0   0]\n",
            " [  0   0   0   1   0   0   0   0   0   0   0 195   0   0   0   0   0   0\n",
            "    0   0   0   0]\n",
            " [  0   0   1   9   0   0   0   0   0   0   0   0 180   0   0   0   4   0\n",
            "    0   0   0   0]\n",
            " [  0   0   0   6   0   0   0   0   0   1   0   6   0 182   0   0   1   0\n",
            "    0   0   0   0]\n",
            " [  0   0   0   3   0   1   0   0   0   0   1   0   1   0 191   0   0   0\n",
            "    0   0   0   0]\n",
            " [  0   0   0   0   0   0   0   0   0   0   1   0   0   0   0 212   0   0\n",
            "    0   0   0   0]\n",
            " [  0   0   0   3   0   0   0   0   0   0   0   0   1   0   0   0 195   0\n",
            "    0   0   0   0]\n",
            " [  0   0   0   0   0   0   0   0   0   0   0   0   0   0   0   0   0 179\n",
            "    0   0   0   0]\n",
            " [  0   0   0   1   0   0   0   0   0   0   0   0   0   0   0   0   0   0\n",
            "  197   0   0   0]\n",
            " [  0   0   0   3   0   1   0   0   0   0   0   0   0   0   0   0   0   0\n",
            "    0 192   0   0]\n",
            " [  0   0   0   3   0   0   0   0   0   0   0   0   0   0   0   0   0   0\n",
            "    0   0 196   0]\n",
            " [  0   0   0   4   0   0   0   0   0   0   0   0   0   0   0   0   0   0\n",
            "    0   0   0 199]]\n",
            "              precision    recall  f1-score   support\n",
            "\n",
            "      Arabic       1.00      1.00      1.00       202\n",
            "     Chinese       0.99      0.97      0.98       201\n",
            "       Dutch       0.98      0.96      0.97       230\n",
            "     English       0.73      0.99      0.84       194\n",
            "    Estonian       0.99      0.94      0.97       200\n",
            "      French       0.94      0.99      0.97       188\n",
            "       Hindi       1.00      0.99      0.99       208\n",
            "  Indonesian       1.00      0.96      0.98       213\n",
            "    Japanese       1.00      0.98      0.99       194\n",
            "      Korean       0.99      0.99      0.99       190\n",
            "       Latin       0.96      0.91      0.94       210\n",
            "     Persian       0.97      0.99      0.98       196\n",
            "   Portugese       0.98      0.93      0.95       194\n",
            "      Pushto       1.00      0.93      0.96       196\n",
            "    Romanian       1.00      0.97      0.98       197\n",
            "     Russian       0.99      1.00      0.99       213\n",
            "     Spanish       0.97      0.98      0.97       199\n",
            "     Swedish       1.00      1.00      1.00       179\n",
            "       Tamil       1.00      0.99      1.00       198\n",
            "        Thai       1.00      0.98      0.99       196\n",
            "     Turkish       1.00      0.98      0.99       199\n",
            "        Urdu       1.00      0.98      0.99       203\n",
            "\n",
            "    accuracy                           0.97      4400\n",
            "   macro avg       0.98      0.97      0.97      4400\n",
            "weighted avg       0.98      0.97      0.97      4400\n",
            "\n"
          ]
        }
      ]
    },
    {
      "cell_type": "markdown",
      "source": [
        "## According to Research paper"
      ],
      "metadata": {
        "id": "07LEeYklMkaQ"
      }
    },
    {
      "cell_type": "code",
      "source": [
        "X=df['Text']\n",
        "le=LabelEncoder()\n",
        "le_y=le.fit_transform(y)\n",
        "data_list=[]\n",
        "train_x,test_x,train_y,test_y=train_test_split(X, y, test_size=0.2)\n",
        "tfidf_vectorizer = TfidfVectorizer()\n",
        "\n",
        "train_x_tfidf = tfidf_vectorizer.fit_transform(train_x)\n",
        "\n",
        "test_x_tfidf = tfidf_vectorizer.transform(test_x)\n"
      ],
      "metadata": {
        "id": "gp1xcCwF5eBM"
      },
      "execution_count": null,
      "outputs": []
    },
    {
      "cell_type": "code",
      "source": [
        "model=MultinomialNB()\n",
        "model.fit(train_x_tfidf,train_y)\n",
        "y_pred=model.predict(test_x_tfidf)"
      ],
      "metadata": {
        "id": "lWv29Zkv5eUM"
      },
      "execution_count": null,
      "outputs": []
    },
    {
      "cell_type": "code",
      "source": [
        "ac=accuracy_score(test_y,y_pred)\n",
        "cm=confusion_matrix(test_y,y_pred)\n",
        "cr=classification_report(test_y,y_pred)\n",
        "print(ac)\n",
        "print(cm)\n",
        "print(cr)"
      ],
      "metadata": {
        "id": "fUoBmC8d5eYM",
        "colab": {
          "base_uri": "https://localhost:8080/"
        },
        "outputId": "256f21f0-231e-47d4-8cd9-717bf2c08753"
      },
      "execution_count": null,
      "outputs": [
        {
          "output_type": "stream",
          "name": "stdout",
          "text": [
            "0.9384090909090909\n",
            "[[195   0   0   2   0   0   0   0   0   0   0   0   0   0   0   0   0   0\n",
            "    0   0   0   0]\n",
            " [  0  94   1  27   0   1   0   1   1   0  69   0   0   0   1   1   2   0\n",
            "    0   0   2   0]\n",
            " [  0   0 205   0   0   3   0   0   0   0   0   0   0   0   0   0   0   0\n",
            "    0   0   0   0]\n",
            " [  0   0   0 201   0   0   0   0   0   0   0   0   0   0   1   0   0   0\n",
            "    0   0   0   0]\n",
            " [  0   0   1   6 197   2   0   0   0   0   0   0   0   0   0   2   0   0\n",
            "    0   0   0   0]\n",
            " [  0   0   0   1   0 205   0   0   0   0   0   0   0   0   0   0   0   0\n",
            "    0   0   0   0]\n",
            " [  0   0   0   5   0   0 200   0   0   0   0   0   0   0   0   0   0   0\n",
            "    0   0   0   0]\n",
            " [  0   0   0   4   0   0   0 204   0   0   0   0   0   0   0   0   0   0\n",
            "    0   0   0   0]\n",
            " [  0   3   1   7   2   1   0   2 130   0  47   0   0   0   1   0   2   3\n",
            "    0   0   0   0]\n",
            " [  0   0   0   4   0   0   0   0   0 214   2   0   0   0   0   0   0   0\n",
            "    0   0   0   0]\n",
            " [  0   0   1  10   0   3   0   0   0   0 165   0   0   0   0   0   1   0\n",
            "    0   0   0   0]\n",
            " [  0   0   0   0   0   0   0   0   0   0   0 190   0   0   0   0   0   0\n",
            "    0   0   0   0]\n",
            " [  0   0   1  12   0   0   0   0   0   0   2   0 180   0   0   0   0   0\n",
            "    0   0   0   0]\n",
            " [  0   0   0   7   0   0   0   0   0   0   0   0   0 204   0   0   0   0\n",
            "    0   0   0   1]\n",
            " [  0   0   0   2   0   0   0   1   0   0   0   0   0   0 203   0   0   0\n",
            "    0   0   0   0]\n",
            " [  0   0   0   2   1   0   0   1   0   0   0   0   0   0   0 196   0   0\n",
            "    0   0   0   0]\n",
            " [  0   0   0   4   0   0   0   0   0   0   0   0   0   0   0   0 192   0\n",
            "    0   0   0   0]\n",
            " [  0   0   0   1   0   0   0   0   0   0   0   0   0   0   0   0   0 197\n",
            "    0   0   0   0]\n",
            " [  0   0   0   3   0   0   0   0   0   0   0   0   0   0   0   0   0   0\n",
            "  200   0   0   0]\n",
            " [  0   0   0   2   0   0   0   0   0   0   0   0   0   0   0   0   0   0\n",
            "    0 185   0   0]\n",
            " [  0   0   0   4   0   0   0   0   0   0   0   0   0   0   0   0   0   0\n",
            "    0   0 194   0]\n",
            " [  0   0   0   4   0   0   0   0   0   0   0   0   0   0   0   0   0   0\n",
            "    0   0   0 178]]\n",
            "              precision    recall  f1-score   support\n",
            "\n",
            "      Arabic       1.00      0.99      0.99       197\n",
            "     Chinese       0.97      0.47      0.63       200\n",
            "       Dutch       0.98      0.99      0.98       208\n",
            "     English       0.65      1.00      0.79       202\n",
            "    Estonian       0.98      0.95      0.97       208\n",
            "      French       0.95      1.00      0.97       206\n",
            "       Hindi       1.00      0.98      0.99       205\n",
            "  Indonesian       0.98      0.98      0.98       208\n",
            "    Japanese       0.99      0.65      0.79       199\n",
            "      Korean       1.00      0.97      0.99       220\n",
            "       Latin       0.58      0.92      0.71       180\n",
            "     Persian       1.00      1.00      1.00       190\n",
            "   Portugese       1.00      0.92      0.96       195\n",
            "      Pushto       1.00      0.96      0.98       212\n",
            "    Romanian       0.99      0.99      0.99       206\n",
            "     Russian       0.98      0.98      0.98       200\n",
            "     Spanish       0.97      0.98      0.98       196\n",
            "     Swedish       0.98      0.99      0.99       198\n",
            "       Tamil       1.00      0.99      0.99       203\n",
            "        Thai       1.00      0.99      0.99       187\n",
            "     Turkish       0.99      0.98      0.98       198\n",
            "        Urdu       0.99      0.98      0.99       182\n",
            "\n",
            "    accuracy                           0.94      4400\n",
            "   macro avg       0.95      0.94      0.94      4400\n",
            "weighted avg       0.96      0.94      0.94      4400\n",
            "\n"
          ]
        }
      ]
    },
    {
      "cell_type": "code",
      "source": [],
      "metadata": {
        "id": "EjW1eRMk5ea8"
      },
      "execution_count": null,
      "outputs": []
    }
  ]
}